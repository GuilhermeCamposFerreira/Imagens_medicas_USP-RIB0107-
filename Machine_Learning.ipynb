{
  "nbformat": 4,
  "nbformat_minor": 0,
  "metadata": {
    "colab": {
      "provenance": [],
      "collapsed_sections": [
        "POSVlxTiqS6m",
        "jx2M-fsop8xu",
        "q-G8-q1pr5-d"
      ],
      "include_colab_link": true
    },
    "kernelspec": {
      "name": "python3",
      "display_name": "Python 3"
    },
    "language_info": {
      "name": "python"
    }
  },
  "cells": [
    {
      "cell_type": "markdown",
      "metadata": {
        "id": "view-in-github",
        "colab_type": "text"
      },
      "source": [
        "<a href=\"https://colab.research.google.com/github/GuilhermeCamposFerreira/Imagens_medicas_USP-RIB0107-/blob/main/Machine_Learning.ipynb\" target=\"_parent\"><img src=\"https://colab.research.google.com/assets/colab-badge.svg\" alt=\"Open In Colab\"/></a>"
      ]
    },
    {
      "cell_type": "markdown",
      "source": [
        "# Conectando com o Google Drive e importando bibliotecas"
      ],
      "metadata": {
        "id": "qH3QKCu-FzIP"
      }
    },
    {
      "cell_type": "code",
      "source": [
        "#aqui montamos o drive\n",
        "from google.colab import drive\n",
        "drive.mount('/content/drive')"
      ],
      "metadata": {
        "id": "HyWMvc04J30d",
        "colab": {
          "base_uri": "https://localhost:8080/"
        },
        "outputId": "cebf57e9-4b5d-44f2-e8d5-7bc9d39bd672"
      },
      "execution_count": 1,
      "outputs": [
        {
          "output_type": "stream",
          "name": "stdout",
          "text": [
            "Mounted at /content/drive\n"
          ]
        }
      ]
    },
    {
      "cell_type": "code",
      "source": [
        "import os\n",
        "import numpy as np\n",
        "import matplotlib.pyplot as plt\n"
      ],
      "metadata": {
        "id": "AZLE8S5YNGQc"
      },
      "execution_count": 2,
      "outputs": []
    },
    {
      "cell_type": "code",
      "source": [
        "!pip install pynrrd\n",
        "!pip install slicerio"
      ],
      "metadata": {
        "id": "fGhHLSm7Ola6",
        "colab": {
          "base_uri": "https://localhost:8080/"
        },
        "outputId": "6cb8c5c7-e09f-4b39-cc24-db9969b4645b"
      },
      "execution_count": 3,
      "outputs": [
        {
          "output_type": "stream",
          "name": "stdout",
          "text": [
            "Looking in indexes: https://pypi.org/simple, https://us-python.pkg.dev/colab-wheels/public/simple/\n",
            "Collecting pynrrd\n",
            "  Downloading pynrrd-1.0.0-py2.py3-none-any.whl (19 kB)\n",
            "Requirement already satisfied: numpy>=1.11.1 in /usr/local/lib/python3.8/dist-packages (from pynrrd) (1.21.6)\n",
            "Requirement already satisfied: typing-extensions in /usr/local/lib/python3.8/dist-packages (from pynrrd) (4.4.0)\n",
            "Collecting nptyping\n",
            "  Downloading nptyping-2.4.1-py3-none-any.whl (36 kB)\n",
            "Installing collected packages: nptyping, pynrrd\n",
            "Successfully installed nptyping-2.4.1 pynrrd-1.0.0\n",
            "Looking in indexes: https://pypi.org/simple, https://us-python.pkg.dev/colab-wheels/public/simple/\n",
            "Collecting slicerio\n",
            "  Downloading slicerio-0.1.8-py3-none-any.whl (11 kB)\n",
            "Requirement already satisfied: requests in /usr/local/lib/python3.8/dist-packages (from slicerio) (2.23.0)\n",
            "Requirement already satisfied: pynrrd in /usr/local/lib/python3.8/dist-packages (from slicerio) (1.0.0)\n",
            "Requirement already satisfied: numpy in /usr/local/lib/python3.8/dist-packages (from slicerio) (1.21.6)\n",
            "Requirement already satisfied: typing-extensions in /usr/local/lib/python3.8/dist-packages (from pynrrd->slicerio) (4.4.0)\n",
            "Requirement already satisfied: nptyping in /usr/local/lib/python3.8/dist-packages (from pynrrd->slicerio) (2.4.1)\n",
            "Requirement already satisfied: urllib3!=1.25.0,!=1.25.1,<1.26,>=1.21.1 in /usr/local/lib/python3.8/dist-packages (from requests->slicerio) (1.24.3)\n",
            "Requirement already satisfied: chardet<4,>=3.0.2 in /usr/local/lib/python3.8/dist-packages (from requests->slicerio) (3.0.4)\n",
            "Requirement already satisfied: certifi>=2017.4.17 in /usr/local/lib/python3.8/dist-packages (from requests->slicerio) (2022.9.24)\n",
            "Requirement already satisfied: idna<3,>=2.5 in /usr/local/lib/python3.8/dist-packages (from requests->slicerio) (2.10)\n",
            "Installing collected packages: slicerio\n",
            "Successfully installed slicerio-0.1.8\n"
          ]
        }
      ]
    },
    {
      "cell_type": "code",
      "source": [
        "import nrrd\n",
        "import slicerio"
      ],
      "metadata": {
        "id": "7hWXhfYGOtfv"
      },
      "execution_count": 4,
      "outputs": []
    },
    {
      "cell_type": "markdown",
      "source": [
        "# Máscaras"
      ],
      "metadata": {
        "id": "IAANTKYsqBwp"
      }
    },
    {
      "cell_type": "code",
      "source": [
        "#aqui colocamos o diretorio\n",
        "os.chdir('/content/drive/MyDrive/Imagens_2.0/')\n",
        "PATH = \"./SPAIR/\""
      ],
      "metadata": {
        "id": "mnk63R5cKYSL"
      },
      "execution_count": 5,
      "outputs": []
    },
    {
      "cell_type": "code",
      "source": [
        "#DEFININDO O DIRETÓRIO\n",
        "path_mask = '/content/drive/MyDrive/Imagens_2.0/3-Segmentation_NRRD'\n",
        "\n",
        "#ACESSANDO O DIRETÓRIO DAS IMAGENS SEGMENTADAS\n",
        "os.chdir(path_mask)\n",
        "\n",
        "#LENDO OS ARQUIVOS\n",
        "\n",
        "#dicionário que armazena os arquivos\n",
        "masks = dict()\n",
        "masks_header = dict()\n",
        "\n",
        "#substrings\n",
        "sub1 = '3-Segmentation_NRRD'\n",
        "sub2 = '.seg.nrrd'\n",
        "\n",
        "\n",
        "print(os.listdir())"
      ],
      "metadata": {
        "id": "pq94qdkgUH_f",
        "colab": {
          "base_uri": "https://localhost:8080/"
        },
        "outputId": "3d070e96-e5fc-425a-9d85-7fb0fcae947c"
      },
      "execution_count": 6,
      "outputs": [
        {
          "output_type": "stream",
          "name": "stdout",
          "text": [
            "['P25L1.seg.nrrd', 'P39L5.seg.nrrd', 'P49L1.seg.nrrd', 'P60L2.seg.nrrd', 'P46L4.seg.nrrd', 'P14L3.seg.nrrd', 'P41L4.seg.nrrd', 'P17L3.seg.nrrd', 'P24L5.seg.nrrd', 'P3L1.seg.nrrd', 'P35L3.seg.nrrd', 'P16L1.seg.nrrd', 'P10L3.seg.nrrd', 'P55L3.seg.nrrd', 'P33L1.seg.nrrd', 'P22L2.seg.nrrd', 'P28L4.seg.nrrd', 'P9L2.seg.nrrd', 'P35L4.seg.nrrd', 'P2L1.seg.nrrd', 'P42L4.seg.nrrd', 'P10L2.seg.nrrd', 'P54L1.seg.nrrd', 'P8L3.seg.nrrd', 'P4L3.seg.nrrd', 'P61L1.seg.nrrd', 'P42L5.seg.nrrd', 'P43L3.seg.nrrd', 'P23L1.seg.nrrd', 'P5L4.seg.nrrd', 'P59L4.seg.nrrd', 'P15L4.seg.nrrd', 'P29L1.seg.nrrd', 'P38L5.seg.nrrd', 'P51L5.seg.nrrd', 'P42L2.seg.nrrd', 'P36L2.seg.nrrd', 'P42L3.seg.nrrd', 'P57L1.seg.nrrd', 'P26L3.seg.nrrd', 'P18L4.seg.nrrd', 'P13L2.seg.nrrd', 'P55L2.seg.nrrd', 'P35L1.seg.nrrd', 'P16L2.seg.nrrd', 'P26L1.seg.nrrd', 'P7L1.seg.nrrd', 'P38L4.seg.nrrd', 'P6L1.seg.nrrd', 'P32L1.seg.nrrd', 'P42L1.seg.nrrd', 'P35L2.seg.nrrd', 'P43L4.seg.nrrd', 'P45L5.seg.nrrd', 'P20L1.seg.nrrd', 'P48L3.seg.nrrd', 'P24L3.seg.nrrd', 'P8L4.seg.nrrd', 'P12L2.seg.nrrd', 'P6L5.seg.nrrd', 'P11L2.seg.nrrd', 'P34L1.seg.nrrd', 'P23L2.seg.nrrd', 'P24L2.seg.nrrd', 'P31L1.seg.nrrd', 'P2L3.seg.nrrd', 'P58L3.seg.nrrd', 'P5L1.seg.nrrd', 'P56L2.seg.nrrd', 'P41L5.seg.nrrd', 'P91L4.seg.nrrd', 'P6L3.seg.nrrd', 'P10L4.seg.nrrd', 'P10L5.seg.nrrd', 'P10L1.seg.nrrd', 'P87L5.seg.nrrd', 'P37L4.seg.nrrd', 'P79L4.seg.nrrd', 'P51L2.seg.nrrd', 'P83L3.seg.nrrd', 'P73L4.seg.nrrd', 'P56L1.seg.nrrd', 'P85L1.seg.nrrd', 'P78L2.seg.nrrd', 'P84L3.seg.nrrd', 'P30L1.seg.nrrd', 'P80L5.seg.nrrd', 'P64L2.seg.nrrd', 'P45L1.seg.nrrd', 'P66L4.seg.nrrd', 'P47L3.seg.nrrd', 'P40L4.seg.nrrd', 'P69L3.seg.nrrd', 'P44L3.seg.nrrd', 'P26L4.seg.nrrd', 'P14L1.seg.nrrd', 'P50L5.seg.nrrd', 'P1L1.seg.nrrd', 'P45L3.seg.nrrd', 'P53L1.seg.nrrd', 'P68L1.seg.nrrd', 'P65L1.seg.nrrd', 'P76L5.seg.nrrd', 'P77L4.seg.nrrd', 'P19L1.seg.nrrd', 'P82L2.seg.nrrd', 'P52L4.seg.nrrd', 'P81L1.seg.nrrd', 'P74L2.seg.nrrd', 'P71L2.seg.nrrd', 'P90L4.seg.nrrd', 'P27L4.seg.nrrd', 'P62L4.seg.nrrd', 'P21L2.seg.nrrd', 'P72L1.seg.nrrd', 'P38L3.seg.nrrd', 'P26L2.seg.nrrd', 'P8L5.seg.nrrd', 'P2L5.seg.nrrd', 'P15L2.seg.nrrd', 'P89L5.seg.nrrd', 'P35L5.seg.nrrd', 'P75L1.seg.nrrd', 'P49L5.seg.nrrd', 'P88L4.seg.nrrd', 'P86L2.seg.nrrd', 'P32L4.seg.nrrd', 'P67L3.seg.nrrd', 'P70L3.seg.nrrd', 'P63L4.seg.nrrd']\n"
          ]
        }
      ]
    },
    {
      "cell_type": "code",
      "source": [
        "#loop que lê os arquivos\n",
        "for file in os.listdir():\n",
        "    #lê somente arquivos .nrrd\n",
        "    if file.endswith('.nrrd'):\n",
        "        file_path = f'{path_mask}/{file}'\n",
        "\n",
        "        \n",
        "        #pegando o index (Posição da sub1 e sub2 na string do file_path)\n",
        "        idx1 = file_path.index(sub1)\n",
        "        idx2 = file_path.index(sub2)\n",
        "        \n",
        "        res = ''\n",
        "        #criando as chaves para o dicionário \n",
        "        for idx in range(idx1 + len(sub1), idx2):\n",
        "            res = res + file_path[idx]\n",
        "\n",
        "        #lendo os arquivos nrrd e salvando nos dicionários\n",
        "        masks[res],masks_header[res] = nrrd.read(file_path)\n",
        "\n",
        "\n",
        "#Extraindo o número do paciente e o corte do exame\n",
        "import re\n",
        "lst = list() #Criando dicionário\n",
        "key = masks.keys() #Lista com as chaves do dicionário masks\n",
        "\n",
        "#Retirando / L P de cada código do paciente\n",
        "for k in key:\n",
        "  tmp1 = k.strip(\"/\")\n",
        "  tmp2 = re.split(r'P|L', tmp1)\n",
        "  lst.append((int(tmp2[1]), tmp2[2]))\n",
        "\n",
        "#Lista de tuplas com o pacientes e exames ordenados\n",
        "lst = sorted(lst)\n",
        "\n",
        "print(lst)\n",
        "\n"
      ],
      "metadata": {
        "id": "69okjt83RErT",
        "colab": {
          "base_uri": "https://localhost:8080/"
        },
        "outputId": "e9466562-d956-48f5-e364-03c83a748f07"
      },
      "execution_count": 7,
      "outputs": [
        {
          "output_type": "stream",
          "name": "stdout",
          "text": [
            "[(1, '1'), (2, '1'), (2, '3'), (2, '5'), (3, '1'), (4, '3'), (5, '1'), (5, '4'), (6, '1'), (6, '3'), (6, '5'), (7, '1'), (8, '3'), (8, '4'), (8, '5'), (9, '2'), (10, '1'), (10, '2'), (10, '3'), (10, '4'), (10, '5'), (11, '2'), (12, '2'), (13, '2'), (14, '1'), (14, '3'), (15, '2'), (15, '4'), (16, '1'), (16, '2'), (17, '3'), (18, '4'), (19, '1'), (20, '1'), (21, '2'), (22, '2'), (23, '1'), (23, '2'), (24, '2'), (24, '3'), (24, '5'), (25, '1'), (26, '1'), (26, '2'), (26, '3'), (26, '4'), (27, '4'), (28, '4'), (29, '1'), (30, '1'), (31, '1'), (32, '1'), (32, '4'), (33, '1'), (34, '1'), (35, '1'), (35, '2'), (35, '3'), (35, '4'), (35, '5'), (36, '2'), (37, '4'), (38, '3'), (38, '4'), (38, '5'), (39, '5'), (40, '4'), (41, '4'), (41, '5'), (42, '1'), (42, '2'), (42, '3'), (42, '4'), (42, '5'), (43, '3'), (43, '4'), (44, '3'), (45, '1'), (45, '3'), (45, '5'), (46, '4'), (47, '3'), (48, '3'), (49, '1'), (49, '5'), (50, '5'), (51, '2'), (51, '5'), (52, '4'), (53, '1'), (54, '1'), (55, '2'), (55, '3'), (56, '1'), (56, '2'), (57, '1'), (58, '3'), (59, '4'), (60, '2'), (61, '1'), (62, '4'), (63, '4'), (64, '2'), (65, '1'), (66, '4'), (67, '3'), (68, '1'), (69, '3'), (70, '3'), (71, '2'), (72, '1'), (73, '4'), (74, '2'), (75, '1'), (76, '5'), (77, '4'), (78, '2'), (79, '4'), (80, '5'), (81, '1'), (82, '2'), (83, '3'), (84, '3'), (85, '1'), (86, '2'), (87, '5'), (88, '4'), (89, '5'), (90, '4'), (91, '4')]\n"
          ]
        }
      ]
    },
    {
      "cell_type": "code",
      "source": [
        "for key in masks:\n",
        "  print(key)"
      ],
      "metadata": {
        "id": "kRlE6kcwI6pO"
      },
      "execution_count": null,
      "outputs": []
    },
    {
      "cell_type": "code",
      "source": [
        "#lista de PacientesExames completa n(/PnumLnum)\n",
        "lstC = list()\n",
        "for p, e in lst:\n",
        "  key = \"/P\" + str(p) + \"L\" + str(e)\n",
        "  lstC.append(key)\n",
        "\n",
        "print(lstC)"
      ],
      "metadata": {
        "id": "10jWuZ9E4xUo",
        "colab": {
          "base_uri": "https://localhost:8080/"
        },
        "outputId": "749f4915-af49-4150-c0a5-8e345f81d1e1"
      },
      "execution_count": 9,
      "outputs": [
        {
          "output_type": "stream",
          "name": "stdout",
          "text": [
            "['/P1L1', '/P2L1', '/P2L3', '/P2L5', '/P3L1', '/P4L3', '/P5L1', '/P5L4', '/P6L1', '/P6L3', '/P6L5', '/P7L1', '/P8L3', '/P8L4', '/P8L5', '/P9L2', '/P10L1', '/P10L2', '/P10L3', '/P10L4', '/P10L5', '/P11L2', '/P12L2', '/P13L2', '/P14L1', '/P14L3', '/P15L2', '/P15L4', '/P16L1', '/P16L2', '/P17L3', '/P18L4', '/P19L1', '/P20L1', '/P21L2', '/P22L2', '/P23L1', '/P23L2', '/P24L2', '/P24L3', '/P24L5', '/P25L1', '/P26L1', '/P26L2', '/P26L3', '/P26L4', '/P27L4', '/P28L4', '/P29L1', '/P30L1', '/P31L1', '/P32L1', '/P32L4', '/P33L1', '/P34L1', '/P35L1', '/P35L2', '/P35L3', '/P35L4', '/P35L5', '/P36L2', '/P37L4', '/P38L3', '/P38L4', '/P38L5', '/P39L5', '/P40L4', '/P41L4', '/P41L5', '/P42L1', '/P42L2', '/P42L3', '/P42L4', '/P42L5', '/P43L3', '/P43L4', '/P44L3', '/P45L1', '/P45L3', '/P45L5', '/P46L4', '/P47L3', '/P48L3', '/P49L1', '/P49L5', '/P50L5', '/P51L2', '/P51L5', '/P52L4', '/P53L1', '/P54L1', '/P55L2', '/P55L3', '/P56L1', '/P56L2', '/P57L1', '/P58L3', '/P59L4', '/P60L2', '/P61L1', '/P62L4', '/P63L4', '/P64L2', '/P65L1', '/P66L4', '/P67L3', '/P68L1', '/P69L3', '/P70L3', '/P71L2', '/P72L1', '/P73L4', '/P74L2', '/P75L1', '/P76L5', '/P77L4', '/P78L2', '/P79L4', '/P80L5', '/P81L1', '/P82L2', '/P83L3', '/P84L3', '/P85L1', '/P86L2', '/P87L5', '/P88L4', '/P89L5', '/P90L4', '/P91L4']\n"
          ]
        }
      ]
    },
    {
      "cell_type": "code",
      "source": [
        "#Imagens ordenadas para todos os pacientes, ordenadas por paciente e exame\n",
        "for i in lstC:\n",
        "  plt.imshow(masks[i][:,:,1], cmap='gray')\n",
        "  #plt.show()\n"
      ],
      "metadata": {
        "id": "BcSFyTdfXYRG",
        "colab": {
          "base_uri": "https://localhost:8080/",
          "height": 268
        },
        "outputId": "b2db0b48-dfa5-4769-938b-b747e74ecf43"
      },
      "execution_count": 10,
      "outputs": [
        {
          "output_type": "display_data",
          "data": {
            "text/plain": [
              "<Figure size 432x288 with 1 Axes>"
            ],
            "image/png": "[encoded data removed]"
          },
          "metadata": {
            "needs_background": "light"
          }
        }
      ]
    },
    {
      "cell_type": "markdown",
      "source": [
        "# Imagens"
      ],
      "metadata": {
        "id": "jx2M-fsop8xu"
      }
    },
    {
      "cell_type": "code",
      "source": [
        "#DEFININDO O DIRETÓRIO\n",
        "path_images = '/content/drive/MyDrive/Imagens_2.0/2-Rescaled_256_NRRD'\n",
        "\n",
        "#ACESSANDO O DIRETÓRIO DAS IMAGENS\n",
        "os.chdir(path_images)\n",
        "\n",
        "#LENDO OS ARQUIVOS\n",
        "\n",
        "#dicionário que armazena os arquivos\n",
        "images = dict()\n",
        "\n",
        "#substrings\n",
        "sub1 = '2-Rescaled_256_NRRD'\n",
        "sub2 = '.nrrd'\n",
        "\n",
        "#loop que lê os arquivos\n",
        "for file in os.listdir():\n",
        "    #lê somente arquivos .nrrd\n",
        "    if file.endswith('.nrrd'):\n",
        "        file_path = f'{path_images}/{file}'\n",
        "        \n",
        "        #pegando o index \n",
        "        idx1 = file_path.index(sub1)\n",
        "        idx2 = file_path.index(sub2)\n",
        "        \n",
        "        res = ''\n",
        "        #criando as chaves para o dicionário\n",
        "        for idx in range(idx1 + len(sub1), idx2):\n",
        "            res = res + file_path[idx]\n",
        "        \n",
        "        #lendo os arquivos nrrd\n",
        "        images[res],_ = nrrd.read(file_path)\n",
        "'''plt.imshow(images['/P'+ 'x'][:,:,7], cmap='gray' )\n",
        "plt.show()\n",
        "plt.imshow(images['/P1'][:,:,5],cmap='gray', zorder=0)\n",
        "plt.scatter(182,267, color='red', s=42,zorder=1)'''"
      ],
      "metadata": {
        "id": "A0vMHTQWTkoR",
        "colab": {
          "base_uri": "https://localhost:8080/",
          "height": 36
        },
        "outputId": "1ad11330-7d32-457a-d3f8-9680909ad675"
      },
      "execution_count": 11,
      "outputs": [
        {
          "output_type": "execute_result",
          "data": {
            "text/plain": [
              "\"plt.imshow(images['/P'+ 'x'][:,:,7], cmap='gray' )\\nplt.show()\\nplt.imshow(images['/P1'][:,:,5],cmap='gray', zorder=0)\\nplt.scatter(182,267, color='red', s=42,zorder=1)\""
            ],
            "application/vnd.google.colaboratory.intrinsic+json": {
              "type": "string"
            }
          },
          "metadata": {},
          "execution_count": 11
        }
      ]
    },
    {
      "cell_type": "code",
      "source": [
        "#for file in str(lst[0]:\n",
        "for i in range(1,17):\n",
        "  plt.imshow(images['/P' + str(i)][:,:,5], cmap='gray')\n",
        "  #plt.show()"
      ],
      "metadata": {
        "id": "97SEsbrKVTz4",
        "colab": {
          "base_uri": "https://localhost:8080/",
          "height": 269
        },
        "outputId": "4c5196cd-3ad6-4419-d373-9f2e7b9da907"
      },
      "execution_count": 12,
      "outputs": [
        {
          "output_type": "display_data",
          "data": {
            "text/plain": [
              "<Figure size 432x288 with 1 Axes>"
            ],
            "image/png": "[encoded data removed]"
          },
          "metadata": {
            "needs_background": "light"
          }
        }
      ]
    },
    {
      "cell_type": "markdown",
      "source": [
        "# Sobreposição da mascara sobre a imagem\n"
      ],
      "metadata": {
        "id": "q-G8-q1pr5-d"
      }
    },
    {
      "cell_type": "code",
      "execution_count": 13,
      "metadata": {
        "id": "qjG6rSLcIkOC",
        "colab": {
          "base_uri": "https://localhost:8080/",
          "height": 1000
        },
        "outputId": "d9ffb7a2-3ebb-4897-a706-f659b6bef317"
      },
      "outputs": [
        {
          "output_type": "display_data",
          "data": {
            "text/plain": [
              "<Figure size 432x288 with 1 Axes>"
            ],
            "image/png": "[encoded data removed]"
          },
          "metadata": {
            "needs_background": "light"
          }
        },
        {
          "output_type": "display_data",
          "data": {
            "text/plain": [
              "<Figure size 432x288 with 1 Axes>"
            ],
            "image/png": "[encoded data removed]"
          },
          "metadata": {
            "needs_background": "light"
          }
        },
        {
          "output_type": "display_data",
          "data": {
            "text/plain": [
              "<Figure size 432x288 with 1 Axes>"
            ],
            "image/png": "[encoded data removed]"
          },
          "metadata": {
            "needs_background": "light"
          }
        },
        {
          "output_type": "display_data",
          "data": {
            "text/plain": [
              "<Figure size 432x288 with 1 Axes>"
            ],
            "image/png": "[encoded data removed]"
          },
          "metadata": {
            "needs_background": "light"
          }
        },
        {
          "output_type": "display_data",
          "data": {
            "text/plain": [
              "<Figure size 432x288 with 1 Axes>"
            ],
            "image/png": "[encoded data removed]"
          },
          "metadata": {
            "needs_background": "light"
          }
        },
        {
          "output_type": "display_data",
          "data": {
            "text/plain": [
              "<Figure size 432x288 with 1 Axes>"
            ],
            "image/png": "[encoded data removed]"
          },
          "metadata": {
            "needs_background": "light"
          }
        },
        {
          "output_type": "display_data",
          "data": {
            "text/plain": [
              "<Figure size 432x288 with 1 Axes>"
            ],
            "image/png": "[encoded data removed]"
          },
          "metadata": {
            "needs_background": "light"
          }
        },
        {
          "output_type": "display_data",
          "data": {
            "text/plain": [
              "<Figure size 432x288 with 1 Axes>"
            ],
            "image/png": "[encoded data removed]"
          },
          "metadata": {
            "needs_background": "light"
          }
        },
        {
          "output_type": "display_data",
          "data": {
            "text/plain": [
              "<Figure size 432x288 with 1 Axes>"
            ],
            "image/png": "[encoded data removed]"
          },
          "metadata": {
            "needs_background": "light"
          }
        },
        {
          "output_type": "display_data",
          "data": {
            "text/plain": [
              "<Figure size 432x288 with 1 Axes>"
            ],
            "image/png": "[encoded data removed]"
          },
          "metadata": {
            "needs_background": "light"
          }
        }
      ],
      "source": [
        "def submatrix(arr):\n",
        "    x, y = np.nonzero(arr)\n",
        "    # Using the smallest and largest x and y indices of nonzero elements, \n",
        "    # we can find the desired rectangular bounds.  \n",
        "    # And don't forget to add 1 to the top bound to avoid the fencepost problem.\n",
        "    return arr[x.min():x.max()+1, y.min():y.max()+1]\n",
        "def segmentarImagem(mask,header,image):\n",
        "    \n",
        "    #mapeia a referência da imagem original de string para int\n",
        "    refImY,refImX,refImZ = list(map(int, header['Segmentation_ReferenceImageExtentOffset'].split()))\n",
        "    \n",
        "    #pegando o tamanhoda máscara\n",
        "    sizeMaskY, sizeMaskX = mask[:,:,2].shape\n",
        "    \n",
        "    #inicializando matriz segmentos\n",
        "    segmentos = np.zeros(image.shape[0:2])\n",
        "    \n",
        "    #colocando a máscara dentro da matriz segmentos\n",
        "    segmentos[refImY:refImY+sizeMaskY,refImX:refImX+sizeMaskX] = segmentos[refImY:refImY+sizeMaskY,refImX:refImX+sizeMaskX] + mask[:,:,0]\n",
        "    \n",
        "    #multiplicando a imagem original pela máscara\n",
        "    segmentos = segmentos*image[:,:,refImZ+2]\n",
        "    \n",
        "    return submatrix(segmentos)\n",
        "\n",
        "segmentos = dict()\n",
        "\n",
        "for im_key, im_value in images.items():\n",
        "    for mask_key, mask_value in masks.items():\n",
        "        \n",
        "        if (len(im_key)==3) & (len(mask_key)==5):\n",
        "            if im_key == mask_key[0:3]: \n",
        "                segmentos[mask_key] = segmentarImagem(masks[mask_key],masks_header[mask_key],images[im_key])\n",
        "                \n",
        "        elif (len(im_key)==4) & (len(mask_key)==6):\n",
        "            if im_key == mask_key[0:4]: \n",
        "                segmentos[mask_key] = segmentarImagem(masks[mask_key],masks_header[mask_key],images[im_key])\n",
        "for img in lstC[:10]:\n",
        "  plt.imshow(segmentos[img],cmap='gray')\n",
        "  plt.show()"
      ]
    },
    {
      "cell_type": "markdown",
      "source": [
        "# Extração de atriutos"
      ],
      "metadata": {
        "id": "Y_Z2nWZVCSJe"
      }
    },
    {
      "cell_type": "code",
      "source": [
        "#Importando biblioteca\n",
        "!pip install pyradiomics\n",
        "\n",
        "import SimpleITK as sitk\n",
        "\n",
        "from radiomics import featureextractor"
      ],
      "metadata": {
        "id": "30wsLNZnCZkM",
        "colab": {
          "base_uri": "https://localhost:8080/"
        },
        "outputId": "319b200f-6c3c-4133-d25f-ed6fe777591a"
      },
      "execution_count": 14,
      "outputs": [
        {
          "output_type": "stream",
          "name": "stdout",
          "text": [
            "Looking in indexes: https://pypi.org/simple, https://us-python.pkg.dev/colab-wheels/public/simple/\n",
            "Collecting pyradiomics\n",
            "  Downloading pyradiomics-3.0.1.tar.gz (34.5 MB)\n",
            "\u001b[K     |████████████████████████████████| 34.5 MB 95 kB/s \n",
            "\u001b[?25hRequirement already satisfied: numpy>=1.9.2 in /usr/local/lib/python3.8/dist-packages (from pyradiomics) (1.21.6)\n",
            "Collecting SimpleITK>=0.9.1\n",
            "  Downloading SimpleITK-2.2.1-cp38-cp38-manylinux_2_17_x86_64.manylinux2014_x86_64.whl (52.7 MB)\n",
            "\u001b[K     |████████████████████████████████| 52.7 MB 1.2 MB/s \n",
            "\u001b[?25hRequirement already satisfied: PyWavelets>=0.4.0 in /usr/local/lib/python3.8/dist-packages (from pyradiomics) (1.4.1)\n",
            "Collecting pykwalify>=1.6.0\n",
            "  Downloading pykwalify-1.8.0-py2.py3-none-any.whl (24 kB)\n",
            "Requirement already satisfied: six>=1.10.0 in /usr/local/lib/python3.8/dist-packages (from pyradiomics) (1.15.0)\n",
            "Collecting docopt>=0.6.2\n",
            "  Downloading docopt-0.6.2.tar.gz (25 kB)\n",
            "Requirement already satisfied: python-dateutil>=2.8.0 in /usr/local/lib/python3.8/dist-packages (from pykwalify>=1.6.0->pyradiomics) (2.8.2)\n",
            "Collecting ruamel.yaml>=0.16.0\n",
            "  Downloading ruamel.yaml-0.17.21-py3-none-any.whl (109 kB)\n",
            "\u001b[K     |████████████████████████████████| 109 kB 42.3 MB/s \n",
            "\u001b[?25hCollecting ruamel.yaml.clib>=0.2.6\n",
            "  Downloading ruamel.yaml.clib-0.2.7-cp38-cp38-manylinux_2_17_x86_64.manylinux2014_x86_64.manylinux_2_24_x86_64.whl (555 kB)\n",
            "\u001b[K     |████████████████████████████████| 555 kB 58.2 MB/s \n",
            "\u001b[?25hBuilding wheels for collected packages: pyradiomics, docopt\n",
            "  Building wheel for pyradiomics (setup.py) ... \u001b[?25l\u001b[?25hdone\n",
            "  Created wheel for pyradiomics: filename=pyradiomics-3.0.1-cp38-cp38-linux_x86_64.whl size=178968 sha256=a9590978ac2b3303e57df4aa41e5254f8665d17fe538293270ae871dfecc642f\n",
            "  Stored in directory: /root/.cache/pip/wheels/df/be/06/5d09092e41d20673137f10ae62fb8d9da9adf14ce2552d7bea\n",
            "  Building wheel for docopt (setup.py) ... \u001b[?25l\u001b[?25hdone\n",
            "  Created wheel for docopt: filename=docopt-0.6.2-py2.py3-none-any.whl size=13723 sha256=061a059c6536944ec7435aca64c4e26f48de3e7de6cced485b947ad67be46119\n",
            "  Stored in directory: /root/.cache/pip/wheels/56/ea/58/ead137b087d9e326852a851351d1debf4ada529b6ac0ec4e8c\n",
            "Successfully built pyradiomics docopt\n",
            "Installing collected packages: ruamel.yaml.clib, ruamel.yaml, docopt, SimpleITK, pykwalify, pyradiomics\n",
            "Successfully installed SimpleITK-2.2.1 docopt-0.6.2 pykwalify-1.8.0 pyradiomics-3.0.1 ruamel.yaml-0.17.21 ruamel.yaml.clib-0.2.7\n"
          ]
        }
      ]
    },
    {
      "cell_type": "markdown",
      "source": [
        "Criando as imagens para o Pyradiomics"
      ],
      "metadata": {
        "id": "mGBUg48uT2Ig"
      }
    },
    {
      "cell_type": "code",
      "source": [
        "#lista com 93 atributos interessantes\n",
        "keysToExtract = ['original_firstorder_10Percentile', \n",
        "                 'original_firstorder_90Percentile', \n",
        "                 'original_firstorder_Energy', \n",
        "                 'original_firstorder_Entropy', \n",
        "                 'original_firstorder_InterquartileRange', \n",
        "                 'original_firstorder_Kurtosis', \n",
        "                 'original_firstorder_Maximum', \n",
        "                 'original_firstorder_MeanAbsoluteDeviation', \n",
        "                 'original_firstorder_Mean', \n",
        "                 'original_firstorder_Median', \n",
        "                 'original_firstorder_Minimum', \n",
        "                 'original_firstorder_Range', \n",
        "                 'original_firstorder_RobustMeanAbsoluteDeviation', \n",
        "                 'original_firstorder_RootMeanSquared', \n",
        "                 'original_firstorder_Skewness', \n",
        "                 'original_firstorder_TotalEnergy', \n",
        "                 'original_firstorder_Uniformity', \n",
        "                 'original_firstorder_Variance', \n",
        "                 'original_glcm_Autocorrelation', \n",
        "                 'original_glcm_ClusterProminence', \n",
        "                 'original_glcm_ClusterShade', \n",
        "                 'original_glcm_ClusterTendency', \n",
        "                 'original_glcm_Contrast', \n",
        "                 'original_glcm_Correlation', \n",
        "                 'original_glcm_DifferenceAverage', \n",
        "                 'original_glcm_DifferenceEntropy', \n",
        "                 'original_glcm_DifferenceVariance', \n",
        "                 'original_glcm_Id', \n",
        "                 'original_glcm_Idm', \n",
        "                 'original_glcm_Idmn', \n",
        "                 'original_glcm_Idn', \n",
        "                 'original_glcm_Imc1', \n",
        "                 'original_glcm_Imc2', \n",
        "                 'original_glcm_InverseVariance', \n",
        "                 'original_glcm_JointAverage', \n",
        "                 'original_glcm_JointEnergy', \n",
        "                 'original_glcm_JointEntropy', \n",
        "                 'original_glcm_MCC', \n",
        "                 'original_glcm_MaximumProbability', \n",
        "                 'original_glcm_SumAverage', \n",
        "                 'original_glcm_SumEntropy', \n",
        "                 'original_glcm_SumSquares', \n",
        "                 'original_gldm_DependenceEntropy', \n",
        "                 'original_gldm_DependenceNonUniformity', \n",
        "                 'original_gldm_DependenceNonUniformityNormalized', \n",
        "                 'original_gldm_DependenceVariance', \n",
        "                 'original_gldm_GrayLevelNonUniformity', \n",
        "                 'original_gldm_GrayLevelVariance', \n",
        "                 'original_gldm_HighGrayLevelEmphasis', \n",
        "                 'original_gldm_LargeDependenceEmphasis', \n",
        "                 'original_gldm_LargeDependenceHighGrayLevelEmphasis', \n",
        "                 'original_gldm_LargeDependenceLowGrayLevelEmphasis', \n",
        "                 'original_gldm_LowGrayLevelEmphasis', \n",
        "                 'original_gldm_SmallDependenceEmphasis', \n",
        "                 'original_gldm_SmallDependenceHighGrayLevelEmphasis',\n",
        "                 'original_gldm_SmallDependenceLowGrayLevelEmphasis', \n",
        "                 'original_glrlm_GrayLevelNonUniformity', \n",
        "                 'original_glrlm_GrayLevelNonUniformityNormalized', \n",
        "                 'original_glrlm_GrayLevelVariance', \n",
        "                 'original_glrlm_HighGrayLevelRunEmphasis', \n",
        "                 'original_glrlm_LongRunEmphasis', \n",
        "                 'original_glrlm_LongRunHighGrayLevelEmphasis', \n",
        "                 'original_glrlm_LongRunLowGrayLevelEmphasis',\n",
        "                 'original_glrlm_LowGrayLevelRunEmphasis', \n",
        "                 'original_glrlm_RunEntropy', \n",
        "                 'original_glrlm_RunLengthNonUniformity', \n",
        "                 'original_glrlm_RunLengthNonUniformityNormalized',\n",
        "                 'original_glrlm_RunPercentage',\n",
        "                 'original_glrlm_RunVariance', \n",
        "                 'original_glrlm_ShortRunEmphasis', \n",
        "                 'original_glrlm_ShortRunHighGrayLevelEmphasis', \n",
        "                 'original_glrlm_ShortRunLowGrayLevelEmphasis', \n",
        "                 'original_glszm_GrayLevelNonUniformity', \n",
        "                 'original_glszm_GrayLevelNonUniformityNormalized', \n",
        "                 'original_glszm_GrayLevelVariance', \n",
        "                 'original_glszm_HighGrayLevelZoneEmphasis',\n",
        "                 'original_glszm_LargeAreaEmphasis',\n",
        "                 'original_glszm_LargeAreaHighGrayLevelEmphasis',\n",
        "                 'original_glszm_LargeAreaLowGrayLevelEmphasis',\n",
        "                 'original_glszm_LowGrayLevelZoneEmphasis',\n",
        "                 'original_glszm_SizeZoneNonUniformity',\n",
        "                 'original_glszm_SizeZoneNonUniformityNormalized',\n",
        "                 'original_glszm_SmallAreaEmphasis',\n",
        "                 'original_glszm_SmallAreaHighGrayLevelEmphasis',\n",
        "                 'original_glszm_SmallAreaLowGrayLevelEmphasis',\n",
        "                 'original_glszm_ZoneEntropy', \n",
        "                 'original_glszm_ZonePercentage',\n",
        "                 'original_glszm_ZoneVariance', \n",
        "                 'original_ngtdm_Busyness', \n",
        "                 'original_ngtdm_Coarseness', \n",
        "                 'original_ngtdm_Complexity', \n",
        "                 'original_ngtdm_Contrast', \n",
        "                 'original_ngtdm_Strength']"
      ],
      "metadata": {
        "id": "qxyuwrZOeG_O"
      },
      "execution_count": 15,
      "outputs": []
    },
    {
      "cell_type": "code",
      "source": [
        "imagens_atributos = dict()\n",
        "\n",
        "#Lendo e extraindo os atributos de cada imagem\n",
        "#Para utilizar o extrator é preciso entrar com a imagem e sua respectiva máscara\n",
        "for key in segmentos.keys():\n",
        "  #Criando a mascara\n",
        "  mascara = np.where(segmentos[key] == 0, 0, 1)\n",
        "  #Transformando em imagens ITK (necessidade da biblioteca)\n",
        "  sitk_mask = sitk.GetImageFromArray(mascara)\n",
        "  sitk_image = sitk.GetImageFromArray(segmentos[key])\n",
        "  #Utilizando o extrator\n",
        "  extractor = featureextractor.RadiomicsFeatureExtractor()\n",
        "  atributos = extractor.execute(sitk_image, sitk_mask) \n",
        "  #Extraind o valor de cada atributo\n",
        "  atributos = dict( (k,atributos[k]) for k in keysToExtract)\n",
        "  #Criando um dicinário com o valor de cada atributo emparelhado com o nome do atributo\n",
        "  imagens_atributos[key] = atributos\n",
        "imagens_atributos"
      ],
      "metadata": {
        "id": "p7q0eAbmZj8U"
      },
      "execution_count": null,
      "outputs": []
    },
    {
      "cell_type": "code",
      "source": [
        "import pandas as pd\n",
        "\n",
        "#criando dataframe e colocando /PaaLbb no eixo Y\n",
        "data = pd.DataFrame(imagens_atributos).transpose()\n",
        "data"
      ],
      "metadata": {
        "id": "ZAGrC0h2f-bT",
        "colab": {
          "base_uri": "https://localhost:8080/",
          "height": 487
        },
        "outputId": "d10afff4-f032-4891-fb58-a5cd85148d6b"
      },
      "execution_count": 17,
      "outputs": [
        {
          "output_type": "execute_result",
          "data": {
            "text/plain": [
              "       original_firstorder_10Percentile original_firstorder_90Percentile  \\\n",
              "/P55L3                44.20000000000002                             82.0   \n",
              "/P55L2                             27.0                             72.0   \n",
              "/P20L1               27.726190476190485               45.442307692307715   \n",
              "/P54L1                             28.0                            128.0   \n",
              "/P59L4                             60.0                            134.0   \n",
              "...                                 ...                              ...   \n",
              "/P80L5                          319.492                        507.19355   \n",
              "/P63L4               142.20000000000002                            361.0   \n",
              "/P48L3                9.727873855544251               16.991353001017295   \n",
              "/P3L1                20.809439788266435                49.04278782531981   \n",
              "/P77L4               104.80952380952337               188.50952380952342   \n",
              "\n",
              "       original_firstorder_Energy original_firstorder_Entropy  \\\n",
              "/P55L3                  7422520.0          1.5072198559312433   \n",
              "/P55L2                  4979560.0          1.4802309667418654   \n",
              "/P20L1         2005352.6304358041          0.5958319798403093   \n",
              "/P54L1                 20389026.0          2.1109949107620265   \n",
              "/P59L4                 21005683.0          2.1928779308181845   \n",
              "...                           ...                         ...   \n",
              "/P80L5          844824971.8948278          3.6858583661615643   \n",
              "/P63L4                178499081.0          3.7121065384192447   \n",
              "/P48L3           724983.286489601         0.06946586947542949   \n",
              "/P3L1           8062097.628743005           1.141200034130553   \n",
              "/P77L4         56603122.272108376          2.4362028323142715   \n",
              "\n",
              "       original_firstorder_InterquartileRange original_firstorder_Kurtosis  \\\n",
              "/P55L3                                   14.0            4.934839967961936   \n",
              "/P55L2                                   26.0           2.3224657581886357   \n",
              "/P20L1                      7.200091575091573            5.230404773255978   \n",
              "/P54L1                                  47.25            2.437342053678219   \n",
              "/P59L4                                   29.0            3.439542633869967   \n",
              "...                                       ...                          ...   \n",
              "/P80L5                              97.844425            5.219547223271182   \n",
              "/P63L4                                  136.0           2.1712070340812732   \n",
              "/P48L3                      3.664165818921669            7.221023516541728   \n",
              "/P3L1                       18.44728716365241            2.005532223509159   \n",
              "/P77L4                      33.95238095238081            4.584207633187245   \n",
              "\n",
              "       original_firstorder_Maximum original_firstorder_MeanAbsoluteDeviation  \\\n",
              "/P55L3                        91.0                        11.382262857465083   \n",
              "/P55L2                        88.0                        14.406651791147713   \n",
              "/P20L1           66.16300366300368                        5.7650431480341675   \n",
              "/P54L1                       144.0                        30.325734108764408   \n",
              "/P59L4                       167.0                        20.676417431923593   \n",
              "...                            ...                                       ...   \n",
              "/P80L5                    806.7173                        63.154419547587814   \n",
              "/P63L4                       481.0                         70.29471274502559   \n",
              "/P48L3          34.112410986775174                          2.37765434874171   \n",
              "/P3L1            60.51610057344509                         9.219329608824324   \n",
              "/P77L4           271.6190476190465                        25.664604999421712   \n",
              "\n",
              "       original_firstorder_Mean original_firstorder_Median  ...  \\\n",
              "/P55L3        67.38956857694784                       72.0  ...   \n",
              "/P55L2       53.644585987261145                       59.0  ...   \n",
              "/P20L1        35.01834452059968          33.31501831501832  ...   \n",
              "/P54L1        94.83434343434344                      111.0  ...   \n",
              "/P59L4       100.38728024819028                      102.0  ...   \n",
              "...                         ...                        ...  ...   \n",
              "/P80L5       407.69506918068095                 397.368175  ...   \n",
              "/P63L4       253.72552936476228                      254.0  ...   \n",
              "/P48L3       13.799509107660418         14.008138351983723  ...   \n",
              "/P3L1         36.62259363418729         39.256726951918836  ...   \n",
              "/P77L4        141.7812837691803          138.7619047619042  ...   \n",
              "\n",
              "       original_glszm_SmallAreaHighGrayLevelEmphasis  \\\n",
              "/P55L3                            1.2763998932446337   \n",
              "/P55L2                            0.7641767699586658   \n",
              "/P20L1                            0.8487020734215452   \n",
              "/P54L1                            3.4203017319905626   \n",
              "/P59L4                            1.5770996600048852   \n",
              "...                                              ...   \n",
              "/P80L5                             46.38471997247436   \n",
              "/P63L4                             18.31148979643005   \n",
              "/P48L3                         0.0022222613658351275   \n",
              "/P3L1                            0.13592077776792055   \n",
              "/P77L4                             6.473663757529735   \n",
              "\n",
              "       original_glszm_SmallAreaLowGrayLevelEmphasis  \\\n",
              "/P55L3                           0.0668930278025271   \n",
              "/P55L2                           0.1294029924340706   \n",
              "/P20L1                          0.21955005012638085   \n",
              "/P54L1                          0.07680832836313108   \n",
              "/P59L4                         0.037775916998064984   \n",
              "...                                             ...   \n",
              "/P80L5                         0.005608534548622989   \n",
              "/P63L4                         0.013681922920855094   \n",
              "/P48L3                       0.00013892803250179425   \n",
              "/P3L1                           0.11925413811510559   \n",
              "/P77L4                         0.014870559722164844   \n",
              "\n",
              "       original_glszm_ZoneEntropy original_glszm_ZonePercentage  \\\n",
              "/P55L3          4.483856189774717          0.016097875080489377   \n",
              "/P55L2          4.152391277629861          0.014012738853503185   \n",
              "/P20L1         3.2516291673878195          0.007731958762886598   \n",
              "/P54L1          5.313762817387991           0.03787878787878788   \n",
              "/P59L4          5.061482186720765          0.022750775594622543   \n",
              "...                           ...                           ...   \n",
              "/P80L5           7.14427214115054           0.09782608695652174   \n",
              "/P63L4         6.5903951131698495           0.10986815821014782   \n",
              "/P48L3         0.9999999999999993         0.0005549389567147614   \n",
              "/P3L1          3.9698157824268048         0.0030719190458980846   \n",
              "/P77L4          5.777240657217747          0.032904689863842665   \n",
              "\n",
              "       original_glszm_ZoneVariance original_ngtdm_Busyness  \\\n",
              "/P55L3                  23715.9456        9.79240568461228   \n",
              "/P55L2           38649.95867768595       7.401991482477685   \n",
              "/P20L1          137185.22222222222       4.290607806430065   \n",
              "/P54L1          12387.600000000002      3.0707984587818986   \n",
              "/P59L4          13777.588842975207       3.346136883656751   \n",
              "...                            ...                     ...   \n",
              "/P80L5          1263.2881434894014     0.49835403880884593   \n",
              "/P63L4           264.6078148760331      0.5062372371378469   \n",
              "/P48L3                   3139984.0       4.279368241320433   \n",
              "/P3L1            713077.7785467127      35.658305414440456   \n",
              "/P77L4          12644.398995904347      3.8467504861433066   \n",
              "\n",
              "       original_ngtdm_Coarseness original_ngtdm_Complexity  \\\n",
              "/P55L3       0.00873017096210035        1.3534100451484836   \n",
              "/P55L2      0.012402355315235416        0.8261158189743342   \n",
              "/P20L1       0.03338135043396934       0.11625493919428419   \n",
              "/P54L1      0.011263379834730622        2.6912805714434214   \n",
              "/P59L4      0.008833291683277754         4.695076157527731   \n",
              "...                          ...                       ...   \n",
              "/P80L5     0.0065639927707231375        109.04673839726934   \n",
              "/P63L4      0.013969458436655407         45.94994248755256   \n",
              "/P48L3       0.11983215518330596       0.00463096867335714   \n",
              "/P3L1       0.005947089997018062        0.2084428398827848   \n",
              "/P77L4      0.006638593112053731         8.773051313859305   \n",
              "\n",
              "       original_ngtdm_Contrast original_ngtdm_Strength  \n",
              "/P55L3     0.01828490328249093     0.06157524501266441  \n",
              "/P55L2    0.012643522654623332     0.06070990259333018  \n",
              "/P20L1   0.0014346904826088615     0.07462201479439946  \n",
              "/P54L1    0.027877265069747286     0.17477523343136853  \n",
              "/P59L4    0.015304068649331733        0.17319501820138  \n",
              "...                        ...                     ...  \n",
              "/P80L5    0.011931392322265713       2.542549144311613  \n",
              "/P63L4     0.02575224597006192      1.5805290050446141  \n",
              "/P48L3  3.6876299368518396e-05     0.12422360248447203  \n",
              "/P3L1     0.006659564821180935     0.01492500746028247  \n",
              "/P77L4     0.01560709041226397     0.24434383482635771  \n",
              "\n",
              "[130 rows x 93 columns]"
            ],
            "text/html": [
              "\n",
              "  <div id=\"df-112df56a-b1b1-432b-889b-c4d05c864844\">\n",
              "    <div class=\"colab-df-container\">\n",
              "      <div>\n",
              "<style scoped>\n",
              "    .dataframe tbody tr th:only-of-type {\n",
              "        vertical-align: middle;\n",
              "    }\n",
              "\n",
              "    .dataframe tbody tr th {\n",
              "        vertical-align: top;\n",
              "    }\n",
              "\n",
              "    .dataframe thead th {\n",
              "        text-align: right;\n",
              "    }\n",
              "</style>\n",
              "<table border=\"1\" class=\"dataframe\">\n",
              "  <thead>\n",
              "    <tr style=\"text-align: right;\">\n",
              "      <th></th>\n",
              "      <th>original_firstorder_10Percentile</th>\n",
              "      <th>original_firstorder_90Percentile</th>\n",
              "      <th>original_firstorder_Energy</th>\n",
              "      <th>original_firstorder_Entropy</th>\n",
              "      <th>original_firstorder_InterquartileRange</th>\n",
              "      <th>original_firstorder_Kurtosis</th>\n",
              "      <th>original_firstorder_Maximum</th>\n",
              "      <th>original_firstorder_MeanAbsoluteDeviation</th>\n",
              "      <th>original_firstorder_Mean</th>\n",
              "      <th>original_firstorder_Median</th>\n",
              "      <th>...</th>\n",
              "      <th>original_glszm_SmallAreaHighGrayLevelEmphasis</th>\n",
              "      <th>original_glszm_SmallAreaLowGrayLevelEmphasis</th>\n",
              "      <th>original_glszm_ZoneEntropy</th>\n",
              "      <th>original_glszm_ZonePercentage</th>\n",
              "      <th>original_glszm_ZoneVariance</th>\n",
              "      <th>original_ngtdm_Busyness</th>\n",
              "      <th>original_ngtdm_Coarseness</th>\n",
              "      <th>original_ngtdm_Complexity</th>\n",
              "      <th>original_ngtdm_Contrast</th>\n",
              "      <th>original_ngtdm_Strength</th>\n",
              "    </tr>\n",
              "  </thead>\n",
              "  <tbody>\n",
              "    <tr>\n",
              "      <th>/P55L3</th>\n",
              "      <td>44.20000000000002</td>\n",
              "      <td>82.0</td>\n",
              "      <td>7422520.0</td>\n",
              "      <td>1.5072198559312433</td>\n",
              "      <td>14.0</td>\n",
              "      <td>4.934839967961936</td>\n",
              "      <td>91.0</td>\n",
              "      <td>11.382262857465083</td>\n",
              "      <td>67.38956857694784</td>\n",
              "      <td>72.0</td>\n",
              "      <td>...</td>\n",
              "      <td>1.2763998932446337</td>\n",
              "      <td>0.0668930278025271</td>\n",
              "      <td>4.483856189774717</td>\n",
              "      <td>0.016097875080489377</td>\n",
              "      <td>23715.9456</td>\n",
              "      <td>9.79240568461228</td>\n",
              "      <td>0.00873017096210035</td>\n",
              "      <td>1.3534100451484836</td>\n",
              "      <td>0.01828490328249093</td>\n",
              "      <td>0.06157524501266441</td>\n",
              "    </tr>\n",
              "    <tr>\n",
              "      <th>/P55L2</th>\n",
              "      <td>27.0</td>\n",
              "      <td>72.0</td>\n",
              "      <td>4979560.0</td>\n",
              "      <td>1.4802309667418654</td>\n",
              "      <td>26.0</td>\n",
              "      <td>2.3224657581886357</td>\n",
              "      <td>88.0</td>\n",
              "      <td>14.406651791147713</td>\n",
              "      <td>53.644585987261145</td>\n",
              "      <td>59.0</td>\n",
              "      <td>...</td>\n",
              "      <td>0.7641767699586658</td>\n",
              "      <td>0.1294029924340706</td>\n",
              "      <td>4.152391277629861</td>\n",
              "      <td>0.014012738853503185</td>\n",
              "      <td>38649.95867768595</td>\n",
              "      <td>7.401991482477685</td>\n",
              "      <td>0.012402355315235416</td>\n",
              "      <td>0.8261158189743342</td>\n",
              "      <td>0.012643522654623332</td>\n",
              "      <td>0.06070990259333018</td>\n",
              "    </tr>\n",
              "    <tr>\n",
              "      <th>/P20L1</th>\n",
              "      <td>27.726190476190485</td>\n",
              "      <td>45.442307692307715</td>\n",
              "      <td>2005352.6304358041</td>\n",
              "      <td>0.5958319798403093</td>\n",
              "      <td>7.200091575091573</td>\n",
              "      <td>5.230404773255978</td>\n",
              "      <td>66.16300366300368</td>\n",
              "      <td>5.7650431480341675</td>\n",
              "      <td>35.01834452059968</td>\n",
              "      <td>33.31501831501832</td>\n",
              "      <td>...</td>\n",
              "      <td>0.8487020734215452</td>\n",
              "      <td>0.21955005012638085</td>\n",
              "      <td>3.2516291673878195</td>\n",
              "      <td>0.007731958762886598</td>\n",
              "      <td>137185.22222222222</td>\n",
              "      <td>4.290607806430065</td>\n",
              "      <td>0.03338135043396934</td>\n",
              "      <td>0.11625493919428419</td>\n",
              "      <td>0.0014346904826088615</td>\n",
              "      <td>0.07462201479439946</td>\n",
              "    </tr>\n",
              "    <tr>\n",
              "      <th>/P54L1</th>\n",
              "      <td>28.0</td>\n",
              "      <td>128.0</td>\n",
              "      <td>20389026.0</td>\n",
              "      <td>2.1109949107620265</td>\n",
              "      <td>47.25</td>\n",
              "      <td>2.437342053678219</td>\n",
              "      <td>144.0</td>\n",
              "      <td>30.325734108764408</td>\n",
              "      <td>94.83434343434344</td>\n",
              "      <td>111.0</td>\n",
              "      <td>...</td>\n",
              "      <td>3.4203017319905626</td>\n",
              "      <td>0.07680832836313108</td>\n",
              "      <td>5.313762817387991</td>\n",
              "      <td>0.03787878787878788</td>\n",
              "      <td>12387.600000000002</td>\n",
              "      <td>3.0707984587818986</td>\n",
              "      <td>0.011263379834730622</td>\n",
              "      <td>2.6912805714434214</td>\n",
              "      <td>0.027877265069747286</td>\n",
              "      <td>0.17477523343136853</td>\n",
              "    </tr>\n",
              "    <tr>\n",
              "      <th>/P59L4</th>\n",
              "      <td>60.0</td>\n",
              "      <td>134.0</td>\n",
              "      <td>21005683.0</td>\n",
              "      <td>2.1928779308181845</td>\n",
              "      <td>29.0</td>\n",
              "      <td>3.439542633869967</td>\n",
              "      <td>167.0</td>\n",
              "      <td>20.676417431923593</td>\n",
              "      <td>100.38728024819028</td>\n",
              "      <td>102.0</td>\n",
              "      <td>...</td>\n",
              "      <td>1.5770996600048852</td>\n",
              "      <td>0.037775916998064984</td>\n",
              "      <td>5.061482186720765</td>\n",
              "      <td>0.022750775594622543</td>\n",
              "      <td>13777.588842975207</td>\n",
              "      <td>3.346136883656751</td>\n",
              "      <td>0.008833291683277754</td>\n",
              "      <td>4.695076157527731</td>\n",
              "      <td>0.015304068649331733</td>\n",
              "      <td>0.17319501820138</td>\n",
              "    </tr>\n",
              "    <tr>\n",
              "      <th>...</th>\n",
              "      <td>...</td>\n",
              "      <td>...</td>\n",
              "      <td>...</td>\n",
              "      <td>...</td>\n",
              "      <td>...</td>\n",
              "      <td>...</td>\n",
              "      <td>...</td>\n",
              "      <td>...</td>\n",
              "      <td>...</td>\n",
              "      <td>...</td>\n",
              "      <td>...</td>\n",
              "      <td>...</td>\n",
              "      <td>...</td>\n",
              "      <td>...</td>\n",
              "      <td>...</td>\n",
              "      <td>...</td>\n",
              "      <td>...</td>\n",
              "      <td>...</td>\n",
              "      <td>...</td>\n",
              "      <td>...</td>\n",
              "      <td>...</td>\n",
              "    </tr>\n",
              "    <tr>\n",
              "      <th>/P80L5</th>\n",
              "      <td>319.492</td>\n",
              "      <td>507.19355</td>\n",
              "      <td>844824971.8948278</td>\n",
              "      <td>3.6858583661615643</td>\n",
              "      <td>97.844425</td>\n",
              "      <td>5.219547223271182</td>\n",
              "      <td>806.7173</td>\n",
              "      <td>63.154419547587814</td>\n",
              "      <td>407.69506918068095</td>\n",
              "      <td>397.368175</td>\n",
              "      <td>...</td>\n",
              "      <td>46.38471997247436</td>\n",
              "      <td>0.005608534548622989</td>\n",
              "      <td>7.14427214115054</td>\n",
              "      <td>0.09782608695652174</td>\n",
              "      <td>1263.2881434894014</td>\n",
              "      <td>0.49835403880884593</td>\n",
              "      <td>0.0065639927707231375</td>\n",
              "      <td>109.04673839726934</td>\n",
              "      <td>0.011931392322265713</td>\n",
              "      <td>2.542549144311613</td>\n",
              "    </tr>\n",
              "    <tr>\n",
              "      <th>/P63L4</th>\n",
              "      <td>142.20000000000002</td>\n",
              "      <td>361.0</td>\n",
              "      <td>178499081.0</td>\n",
              "      <td>3.7121065384192447</td>\n",
              "      <td>136.0</td>\n",
              "      <td>2.1712070340812732</td>\n",
              "      <td>481.0</td>\n",
              "      <td>70.29471274502559</td>\n",
              "      <td>253.72552936476228</td>\n",
              "      <td>254.0</td>\n",
              "      <td>...</td>\n",
              "      <td>18.31148979643005</td>\n",
              "      <td>0.013681922920855094</td>\n",
              "      <td>6.5903951131698495</td>\n",
              "      <td>0.10986815821014782</td>\n",
              "      <td>264.6078148760331</td>\n",
              "      <td>0.5062372371378469</td>\n",
              "      <td>0.013969458436655407</td>\n",
              "      <td>45.94994248755256</td>\n",
              "      <td>0.02575224597006192</td>\n",
              "      <td>1.5805290050446141</td>\n",
              "    </tr>\n",
              "    <tr>\n",
              "      <th>/P48L3</th>\n",
              "      <td>9.727873855544251</td>\n",
              "      <td>16.991353001017295</td>\n",
              "      <td>724983.286489601</td>\n",
              "      <td>0.06946586947542949</td>\n",
              "      <td>3.664165818921669</td>\n",
              "      <td>7.221023516541728</td>\n",
              "      <td>34.112410986775174</td>\n",
              "      <td>2.37765434874171</td>\n",
              "      <td>13.799509107660418</td>\n",
              "      <td>14.008138351983723</td>\n",
              "      <td>...</td>\n",
              "      <td>0.0022222613658351275</td>\n",
              "      <td>0.00013892803250179425</td>\n",
              "      <td>0.9999999999999993</td>\n",
              "      <td>0.0005549389567147614</td>\n",
              "      <td>3139984.0</td>\n",
              "      <td>4.279368241320433</td>\n",
              "      <td>0.11983215518330596</td>\n",
              "      <td>0.00463096867335714</td>\n",
              "      <td>3.6876299368518396e-05</td>\n",
              "      <td>0.12422360248447203</td>\n",
              "    </tr>\n",
              "    <tr>\n",
              "      <th>/P3L1</th>\n",
              "      <td>20.809439788266435</td>\n",
              "      <td>49.04278782531981</td>\n",
              "      <td>8062097.628743005</td>\n",
              "      <td>1.141200034130553</td>\n",
              "      <td>18.44728716365241</td>\n",
              "      <td>2.005532223509159</td>\n",
              "      <td>60.51610057344509</td>\n",
              "      <td>9.219329608824324</td>\n",
              "      <td>36.62259363418729</td>\n",
              "      <td>39.256726951918836</td>\n",
              "      <td>...</td>\n",
              "      <td>0.13592077776792055</td>\n",
              "      <td>0.11925413811510559</td>\n",
              "      <td>3.9698157824268048</td>\n",
              "      <td>0.0030719190458980846</td>\n",
              "      <td>713077.7785467127</td>\n",
              "      <td>35.658305414440456</td>\n",
              "      <td>0.005947089997018062</td>\n",
              "      <td>0.2084428398827848</td>\n",
              "      <td>0.006659564821180935</td>\n",
              "      <td>0.01492500746028247</td>\n",
              "    </tr>\n",
              "    <tr>\n",
              "      <th>/P77L4</th>\n",
              "      <td>104.80952380952337</td>\n",
              "      <td>188.50952380952342</td>\n",
              "      <td>56603122.272108376</td>\n",
              "      <td>2.4362028323142715</td>\n",
              "      <td>33.95238095238081</td>\n",
              "      <td>4.584207633187245</td>\n",
              "      <td>271.6190476190465</td>\n",
              "      <td>25.664604999421712</td>\n",
              "      <td>141.7812837691803</td>\n",
              "      <td>138.7619047619042</td>\n",
              "      <td>...</td>\n",
              "      <td>6.473663757529735</td>\n",
              "      <td>0.014870559722164844</td>\n",
              "      <td>5.777240657217747</td>\n",
              "      <td>0.032904689863842665</td>\n",
              "      <td>12644.398995904347</td>\n",
              "      <td>3.8467504861433066</td>\n",
              "      <td>0.006638593112053731</td>\n",
              "      <td>8.773051313859305</td>\n",
              "      <td>0.01560709041226397</td>\n",
              "      <td>0.24434383482635771</td>\n",
              "    </tr>\n",
              "  </tbody>\n",
              "</table>\n",
              "<p>130 rows × 93 columns</p>\n",
              "</div>\n",
              "      <button class=\"colab-df-convert\" onclick=\"convertToInteractive('df-112df56a-b1b1-432b-889b-c4d05c864844')\"\n",
              "              title=\"Convert this dataframe to an interactive table.\"\n",
              "              style=\"display:none;\">\n",
              "        \n",
              "  <svg xmlns=\"http://www.w3.org/2000/svg\" height=\"24px\"viewBox=\"0 0 24 24\"\n",
              "       width=\"24px\">\n",
              "    <path d=\"M0 0h24v24H0V0z\" fill=\"none\"/>\n",
              "    <path d=\"M18.56 5.44l.94 2.06.94-2.06 2.06-.94-2.06-.94-.94-2.06-.94 2.06-2.06.94zm-11 1L8.5 8.5l.94-2.06 2.06-.94-2.06-.94L8.5 2.5l-.94 2.06-2.06.94zm10 10l.94 2.06.94-2.06 2.06-.94-2.06-.94-.94-2.06-.94 2.06-2.06.94z\"/><path d=\"M17.41 7.96l-1.37-1.37c-.4-.4-.92-.59-1.43-.59-.52 0-1.04.2-1.43.59L10.3 9.45l-7.72 7.72c-.78.78-.78 2.05 0 2.83L4 21.41c.39.39.9.59 1.41.59.51 0 1.02-.2 1.41-.59l7.78-7.78 2.81-2.81c.8-.78.8-2.07 0-2.86zM5.41 20L4 18.59l7.72-7.72 1.47 1.35L5.41 20z\"/>\n",
              "  </svg>\n",
              "      </button>\n",
              "      \n",
              "  <style>\n",
              "    .colab-df-container {\n",
              "      display:flex;\n",
              "      flex-wrap:wrap;\n",
              "      gap: 12px;\n",
              "    }\n",
              "\n",
              "    .colab-df-convert {\n",
              "      background-color: #E8F0FE;\n",
              "      border: none;\n",
              "      border-radius: 50%;\n",
              "      cursor: pointer;\n",
              "      display: none;\n",
              "      fill: #1967D2;\n",
              "      height: 32px;\n",
              "      padding: 0 0 0 0;\n",
              "      width: 32px;\n",
              "    }\n",
              "\n",
              "    .colab-df-convert:hover {\n",
              "      background-color: #E2EBFA;\n",
              "      box-shadow: 0px 1px 2px rgba(60, 64, 67, 0.3), 0px 1px 3px 1px rgba(60, 64, 67, 0.15);\n",
              "      fill: #174EA6;\n",
              "    }\n",
              "\n",
              "    [theme=dark] .colab-df-convert {\n",
              "      background-color: #3B4455;\n",
              "      fill: #D2E3FC;\n",
              "    }\n",
              "\n",
              "    [theme=dark] .colab-df-convert:hover {\n",
              "      background-color: #434B5C;\n",
              "      box-shadow: 0px 1px 3px 1px rgba(0, 0, 0, 0.15);\n",
              "      filter: drop-shadow(0px 1px 2px rgba(0, 0, 0, 0.3));\n",
              "      fill: #FFFFFF;\n",
              "    }\n",
              "  </style>\n",
              "\n",
              "      <script>\n",
              "        const buttonEl =\n",
              "          document.querySelector('#df-112df56a-b1b1-432b-889b-c4d05c864844 button.colab-df-convert');\n",
              "        buttonEl.style.display =\n",
              "          google.colab.kernel.accessAllowed ? 'block' : 'none';\n",
              "\n",
              "        async function convertToInteractive(key) {\n",
              "          const element = document.querySelector('#df-112df56a-b1b1-432b-889b-c4d05c864844');\n",
              "          const dataTable =\n",
              "            await google.colab.kernel.invokeFunction('convertToInteractive',\n",
              "                                                     [key], {});\n",
              "          if (!dataTable) return;\n",
              "\n",
              "          const docLinkHtml = 'Like what you see? Visit the ' +\n",
              "            '<a target=\"_blank\" href=https://colab.research.google.com/notebooks/data_table.ipynb>data table notebook</a>'\n",
              "            + ' to learn more about interactive tables.';\n",
              "          element.innerHTML = '';\n",
              "          dataTable['output_type'] = 'display_data';\n",
              "          await google.colab.output.renderOutput(dataTable, element);\n",
              "          const docLink = document.createElement('div');\n",
              "          docLink.innerHTML = docLinkHtml;\n",
              "          element.appendChild(docLink);\n",
              "        }\n",
              "      </script>\n",
              "    </div>\n",
              "  </div>\n",
              "  "
            ]
          },
          "metadata": {},
          "execution_count": 17
        }
      ]
    },
    {
      "cell_type": "markdown",
      "source": [
        "Criando dataframe preparado para passar pelos classificadores"
      ],
      "metadata": {
        "id": "QeDi4d_LOzk7"
      }
    },
    {
      "cell_type": "code",
      "source": [
        "os.chdir('/content/drive/MyDrive/Imagens_2.0')\n",
        "patients = pd.read_excel('Patients.xlsx', index_col = 'Id')#Arquivo excel com idade do paciente, sexo, e com as features(maligno ou benigno)\n",
        "\n",
        "#juntando os dois dataframes data e Patients\n",
        "for index1 in data.index: #pega o codigo de cada exame\n",
        "    if len(index1)==5:#Tamanho da string que representaa o código do paciente\n",
        "        for index2 in patients.index:#codigo de cada paciente\n",
        "            if index1[1:3]==index2:#junta\n",
        "                data.loc[index1,'target']=patients.loc[index2,'Class']\n",
        "            \n",
        "    elif len(index1)==6:\n",
        "        for index2 in patients.index:\n",
        "            if index1[1:4]==index2:\n",
        "                data.loc[index1,'target']=patients.loc[index2,'Class']\n"
      ],
      "metadata": {
        "id": "hG-jdoPmhVAb"
      },
      "execution_count": 18,
      "outputs": []
    },
    {
      "cell_type": "code",
      "source": [
        "len(data.columns)"
      ],
      "metadata": {
        "id": "aIKV1lbMi72v",
        "colab": {
          "base_uri": "https://localhost:8080/"
        },
        "outputId": "33aafe03-0afb-42b5-f680-4c8a203ebb35"
      },
      "execution_count": 19,
      "outputs": [
        {
          "output_type": "execute_result",
          "data": {
            "text/plain": [
              "94"
            ]
          },
          "metadata": {},
          "execution_count": 19
        }
      ]
    },
    {
      "cell_type": "markdown",
      "source": [
        "# Aprendizado de máquina"
      ],
      "metadata": {
        "id": "pXig3yEvUW4f"
      }
    },
    {
      "cell_type": "code",
      "source": [
        "#para o pré-processamento do dataframe\n",
        "from sklearn.model_selection import train_test_split\n",
        "from sklearn.preprocessing import StandardScaler\n",
        "!pip install boruta\n",
        "from boruta import BorutaPy\n",
        "\n",
        "#cross-validator\n",
        "from sklearn.model_selection import StratifiedKFold\n",
        "from sklearn.model_selection import GridSearchCV\n",
        "\n",
        "#para a classificação\n",
        "from sklearn.svm import SVC # SVM\n",
        "from sklearn.ensemble import RandomForestClassifier as RF # Random Forest\n",
        "from sklearn.linear_model import LogisticRegression as logistic # Regressão logística\n",
        "from sklearn.neighbors import KNeighborsClassifier as KNN # K vizinhos próximos\n",
        "\n",
        "#para avaliação das predições\n",
        "from sklearn.metrics import accuracy_score\n",
        "from sklearn.metrics import confusion_matrix, ConfusionMatrixDisplay\n",
        "from sklearn.metrics import roc_curve\n",
        "from sklearn.metrics import roc_auc_score\n",
        "\n"
      ],
      "metadata": {
        "id": "Af1ANhO-TfWP"
      },
      "execution_count": null,
      "outputs": []
    },
    {
      "cell_type": "code",
      "source": [
        "#Removendo a coluna target para a variavel x (atributos - target)\n",
        "X = data.drop(columns = ['target'])\n",
        "\n",
        "#atribuindo target para Y (Maligno ou Benigno)\n",
        "Y = data.target\n",
        "\n",
        "#Separando o parte dos dado para treino e para teste (TRAIN = 80% / TEST = 20% )\n",
        "X_train, X_test, y_train, y_test = train_test_split(X, Y, test_size=0.2, random_state=42) "
      ],
      "metadata": {
        "id": "-L572jsNVAac"
      },
      "execution_count": 21,
      "outputs": []
    },
    {
      "cell_type": "code",
      "source": [
        "#Padronizar tudo, ou seja, que a média seja 0 e o desvio padrão 1 (Normal)\n",
        "regua = StandardScaler()\n",
        "X_train_scaled = regua.fit_transform(X_train)\n",
        "X_test_scaled = regua.transform(X_test)"
      ],
      "metadata": {
        "id": "_nMl_TAzfU_w"
      },
      "execution_count": 23,
      "outputs": []
    },
    {
      "cell_type": "markdown",
      "source": [
        "Atualizando o valor de X_train e test com valores normalizados"
      ],
      "metadata": {
        "id": "LhNrSoCNVRQy"
      }
    },
    {
      "cell_type": "code",
      "source": [
        "X_train = pd.DataFrame(X_train_scaled, columns = X_train.columns, index = X_train.index)\n",
        "X_test = pd.DataFrame(X_test_scaled, columns = X_test.columns, index = X_test.index)\n"
      ],
      "metadata": {
        "id": "tQZHlUGthQxH"
      },
      "execution_count": 24,
      "outputs": []
    },
    {
      "cell_type": "markdown",
      "source": [
        "----------------------------------------------------------"
      ],
      "metadata": {
        "id": "L5DCC9IQnBG8"
      }
    },
    {
      "cell_type": "code",
      "source": [
        "#Criando variáveis com o valor dos dataframes acima para serem inserido no boruta (np.array)\n",
        "X = X_train.to_numpy()\n",
        "y = y_train.to_numpy()\n",
        "Xt = X_test.to_numpy()"
      ],
      "metadata": {
        "id": "KKFLs9DZ8it5"
      },
      "execution_count": 25,
      "outputs": []
    },
    {
      "cell_type": "code",
      "source": [
        "y_train"
      ],
      "metadata": {
        "id": "zzs4mXaEK_Ix",
        "colab": {
          "base_uri": "https://localhost:8080/"
        },
        "outputId": "cf50a93f-77e4-47f8-924e-384a64c52221"
      },
      "execution_count": 26,
      "outputs": [
        {
          "output_type": "execute_result",
          "data": {
            "text/plain": [
              "/P1L1        benign\n",
              "/P36L2    malignant\n",
              "/P29L1       benign\n",
              "/P55L3       benign\n",
              "/P10L2       benign\n",
              "            ...    \n",
              "/P33L1       benign\n",
              "/P5L1        benign\n",
              "/P10L5       benign\n",
              "/P35L1       benign\n",
              "/P73L4    malignant\n",
              "Name: target, Length: 104, dtype: object"
            ]
          },
          "metadata": {},
          "execution_count": 26
        }
      ]
    },
    {
      "cell_type": "code",
      "source": [
        "y_test"
      ],
      "metadata": {
        "id": "Bf5jS5H8BbyB"
      },
      "execution_count": null,
      "outputs": []
    },
    {
      "cell_type": "code",
      "source": [
        "#Criando random forest para o boruta\n",
        "rf = RF(n_jobs=-1, class_weight='balanced', max_depth=5, random_state=42)\n",
        "\n",
        "#Selecionando atributos utilizando o boruta (Naruto é melhor)\n",
        "boruta = BorutaPy(rf, n_estimators='auto', verbose=2, random_state=42)\n",
        "#Ajustar o modelo aos dados que estamos passando\n",
        "boruta.fit(X, y)"
      ],
      "metadata": {
        "id": "m0nMLofHiZKZ"
      },
      "execution_count": null,
      "outputs": []
    },
    {
      "cell_type": "code",
      "source": [
        "#Vendo os atributos que o boruta selecionou\n",
        "atributos_selecionados = X_train.columns[boruta.support_].to_list()\n",
        "print(atributos_selecionados)"
      ],
      "metadata": {
        "id": "AqHNh19g8bH1",
        "colab": {
          "base_uri": "https://localhost:8080/"
        },
        "outputId": "1e9a7b42-51cd-4626-86fc-437ece853ef7"
      },
      "execution_count": 28,
      "outputs": [
        {
          "output_type": "stream",
          "name": "stdout",
          "text": [
            "['original_firstorder_90Percentile', 'original_firstorder_InterquartileRange', 'original_firstorder_Kurtosis', 'original_firstorder_MeanAbsoluteDeviation', 'original_firstorder_Median', 'original_firstorder_RobustMeanAbsoluteDeviation', 'original_firstorder_Skewness', 'original_firstorder_Variance', 'original_glcm_Idmn', 'original_glcm_Imc2', 'original_glcm_MCC', 'original_gldm_GrayLevelNonUniformity', 'original_gldm_SmallDependenceLowGrayLevelEmphasis', 'original_glrlm_GrayLevelNonUniformity', 'original_glrlm_GrayLevelNonUniformityNormalized', 'original_glrlm_HighGrayLevelRunEmphasis', 'original_glszm_GrayLevelNonUniformityNormalized']\n"
          ]
        }
      ]
    },
    {
      "cell_type": "code",
      "source": [
        "#Número de atributos\n",
        "print(len(atributos_selecionados))"
      ],
      "metadata": {
        "id": "XcNLK8ZUW8Wg",
        "colab": {
          "base_uri": "https://localhost:8080/"
        },
        "outputId": "985a27ab-c816-4052-b015-092f109e7fa9"
      },
      "execution_count": 29,
      "outputs": [
        {
          "output_type": "stream",
          "name": "stdout",
          "text": [
            "17\n"
          ]
        }
      ]
    },
    {
      "cell_type": "code",
      "source": [
        "#Aplicano os atributos selecionados pelo boruta nos X_treino e test para remover os outros atributos\n",
        "X_treino_filtrado = boruta.transform(X)\n",
        "X_test_filtrado = boruta.transform(Xt)"
      ],
      "metadata": {
        "id": "5ixmted19evN"
      },
      "execution_count": 30,
      "outputs": []
    },
    {
      "cell_type": "code",
      "source": [
        "print(X_treino_filtrado)"
      ],
      "metadata": {
        "id": "rF9blJFf7Z5P"
      },
      "execution_count": null,
      "outputs": []
    },
    {
      "cell_type": "code",
      "source": [
        "#Tranformando np.array com atributos filtrados em um dataframe filtrado\n",
        "X_treino_filtrado = pd.DataFrame(X_treino_filtrado, columns = atributos_selecionados, index = X_train.index)\n",
        "X_test_filtrado = pd.DataFrame(X_test_filtrado, columns = atributos_selecionados, index = X_test.index)"
      ],
      "metadata": {
        "id": "1hwj6EEO6-Lc"
      },
      "execution_count": 32,
      "outputs": []
    },
    {
      "cell_type": "code",
      "source": [
        "X_treino_filtrado"
      ],
      "metadata": {
        "id": "iWTdrV9u8oWX"
      },
      "execution_count": null,
      "outputs": []
    },
    {
      "cell_type": "markdown",
      "source": [
        "-------------------------------------------------------------------"
      ],
      "metadata": {
        "id": "mJcUTQrxnGpl"
      }
    },
    {
      "cell_type": "code",
      "source": [
        "#hiperparâmetros de cada classificador -> fornecidos\n",
        "paramSVM = {'C': (.25, .50, 1.0, 2.0, 4.0)}\n",
        "paramRF  = {'n_estimators': (50, 100, 150, 200),\n",
        "            'max_depth': (5, 10, 15, 20, 25),\n",
        "            'min_samples_split': (2, 5, 8),\n",
        "            'min_samples_leaf': (1, 2, 4)}\n",
        "paramRL  = {'C': (.25, .50, 1.0, 2.0, 4.0)}\n",
        "paramKNN = {'n_neighbors': (1, 3, 5, 7)}\n",
        "\n",
        "hiperparametros = {\n",
        "    'SVM':paramSVM,\n",
        "    'RF':paramRF,\n",
        "    'RL':paramRL,\n",
        "    'KNN':paramKNN\n",
        "}\n"
      ],
      "metadata": {
        "id": "PXszqHBBCHR5"
      },
      "execution_count": 33,
      "outputs": []
    },
    {
      "cell_type": "markdown",
      "source": [
        "Hiperparâmetros -> dão dados de configuração passados para o classificador (profundidade de uma árvore de decisões [pruning])\n"
      ],
      "metadata": {
        "id": "Ntz6kHAaZULO"
      }
    },
    {
      "cell_type": "markdown",
      "source": [
        "Parâmetros -> Ajustados automaticamente pelo aprendizado de máquina (peso de cada nerônio de uma rede neural)"
      ],
      "metadata": {
        "id": "RMBqCOr_ZmcE"
      }
    },
    {
      "cell_type": "code",
      "source": [
        "hiperparametros['SVM']['C']"
      ],
      "metadata": {
        "id": "I0-n1u45dGe3",
        "colab": {
          "base_uri": "https://localhost:8080/"
        },
        "outputId": "f482d082-8ce5-4148-9f94-ee8f5b5156fd"
      },
      "execution_count": 34,
      "outputs": [
        {
          "output_type": "execute_result",
          "data": {
            "text/plain": [
              "(0.25, 0.5, 1.0, 2.0, 4.0)"
            ]
          },
          "metadata": {},
          "execution_count": 34
        }
      ]
    },
    {
      "cell_type": "code",
      "source": [
        "#Criando um dicionário com cada classificador\n",
        "'''\n",
        "SVM = Support Vector Machine (Regressão linear com com diversos separadores)\n",
        "RF = Random forest\n",
        "RL = Regressão logística\n",
        "KNN = K-nearest neighbors (distância entre vizinhos mais proximos)\n",
        "'''\n",
        "\n",
        "clf = dict()\n",
        "\n",
        "clf[\"SVM\"] = SVC(C = hiperparametros['SVM']['C'], random_state = 42, probability = True)\n",
        "\n",
        "clf[\"RF\"] = RF(n_estimators = hiperparametros['RF']['n_estimators'],\n",
        "               max_depth = hiperparametros['RF']['max_depth'],\n",
        "               min_samples_split = hiperparametros['RF']['min_samples_split'], \n",
        "               min_samples_leaf = hiperparametros['RF']['min_samples_leaf'],\n",
        "               random_state= 42)\n",
        "\n",
        "clf[\"RL\"] = logistic(C = hiperparametros['RL']['C'], random_state= 42)\n",
        "\n",
        "clf[\"KNN\"] = KNN(n_neighbors = hiperparametros['KNN']['n_neighbors'])"
      ],
      "metadata": {
        "id": "nyEZ2qHhA94d"
      },
      "execution_count": 35,
      "outputs": []
    },
    {
      "cell_type": "code",
      "source": [
        "#Validação cruzada\n",
        "'''\n",
        "Faz combinações entre hiperparâmetros\n",
        "Faz a média da perfórmace\n",
        "Salva os que tiveram a melhor performace\n",
        "'''\n",
        "skf = StratifiedKFold(n_splits=5, shuffle=True, random_state=42)\n",
        "skf.get_n_splits(X_treino_filtrado, y)\n",
        "print(skf)"
      ],
      "metadata": {
        "id": "IfKyWGvCJXK6",
        "colab": {
          "base_uri": "https://localhost:8080/"
        },
        "outputId": "7b338b0c-12f7-4928-bcc2-246edc255ffb"
      },
      "execution_count": 36,
      "outputs": [
        {
          "output_type": "stream",
          "name": "stdout",
          "text": [
            "StratifiedKFold(n_splits=5, random_state=42, shuffle=True)\n"
          ]
        }
      ]
    },
    {
      "cell_type": "code",
      "source": [
        "#Treinando os classificadores\n",
        "classificadores = dict()\n",
        "y_pred = dict()\n",
        "\n",
        "#GridSearchCV para otimizar os hiperparâmetros, treinar clf e fazer previsões\n",
        "for key in clf:\n",
        "  print(f'Treinando: {key}')\n",
        "  gscv = GridSearchCV(estimator = clf[key],          \n",
        "                      scoring = 'accuracy',\n",
        "                      param_grid = hiperparametros[key],\n",
        "                      refit=True)      \n",
        "  \n",
        "  classificadores[key] = gscv.fit(X_treino_filtrado, y)\n",
        "  #salvando as predições de cada classificador\n",
        "  y_pred[key] = gscv.predict(X_test_filtrado)\n",
        "  print(f'Hiperparâmetros ---> {gscv.best_params_} \\nMelhor acurácia ---> {round(100*gscv.best_score_,2)} %\\n')"
      ],
      "metadata": {
        "id": "7zCBCP7SMJ-1",
        "colab": {
          "base_uri": "https://localhost:8080/"
        },
        "outputId": "89f7e799-2fa0-4dc2-9d44-257cfb79cd7e"
      },
      "execution_count": 37,
      "outputs": [
        {
          "output_type": "stream",
          "name": "stdout",
          "text": [
            "Treinando: SVM\n",
            "Hiperparâmetros ---> {'C': 1.0} \n",
            "Melhor acurácia ---> 82.67 %\n",
            "\n",
            "Treinando: RF\n",
            "Hiperparâmetros ---> {'max_depth': 5, 'min_samples_leaf': 2, 'min_samples_split': 5, 'n_estimators': 50} \n",
            "Melhor acurácia ---> 82.62 %\n",
            "\n",
            "Treinando: RL\n",
            "Hiperparâmetros ---> {'C': 4.0} \n",
            "Melhor acurácia ---> 81.62 %\n",
            "\n",
            "Treinando: KNN\n",
            "Hiperparâmetros ---> {'n_neighbors': 5} \n",
            "Melhor acurácia ---> 79.71 %\n",
            "\n"
          ]
        }
      ]
    },
    {
      "cell_type": "code",
      "source": [
        "classificadores"
      ],
      "metadata": {
        "id": "9crcl5ah0WqD",
        "colab": {
          "base_uri": "https://localhost:8080/"
        },
        "outputId": "0315cba7-ae50-41b8-cf06-653949d67a9c"
      },
      "execution_count": 38,
      "outputs": [
        {
          "output_type": "execute_result",
          "data": {
            "text/plain": [
              "{'SVM': GridSearchCV(estimator=SVC(C=(0.25, 0.5, 1.0, 2.0, 4.0), probability=True,\n",
              "                            random_state=42),\n",
              "              param_grid={'C': (0.25, 0.5, 1.0, 2.0, 4.0)}, scoring='accuracy'),\n",
              " 'RF': GridSearchCV(estimator=RandomForestClassifier(max_depth=(5, 10, 15, 20, 25),\n",
              "                                               min_samples_leaf=(1, 2, 4),\n",
              "                                               min_samples_split=(2, 5, 8),\n",
              "                                               n_estimators=(50, 100, 150, 200),\n",
              "                                               random_state=42),\n",
              "              param_grid={'max_depth': (5, 10, 15, 20, 25),\n",
              "                          'min_samples_leaf': (1, 2, 4),\n",
              "                          'min_samples_split': (2, 5, 8),\n",
              "                          'n_estimators': (50, 100, 150, 200)},\n",
              "              scoring='accuracy'),\n",
              " 'RL': GridSearchCV(estimator=LogisticRegression(C=(0.25, 0.5, 1.0, 2.0, 4.0),\n",
              "                                           random_state=42),\n",
              "              param_grid={'C': (0.25, 0.5, 1.0, 2.0, 4.0)}, scoring='accuracy'),\n",
              " 'KNN': GridSearchCV(estimator=KNeighborsClassifier(n_neighbors=(1, 3, 5, 7)),\n",
              "              param_grid={'n_neighbors': (1, 3, 5, 7)}, scoring='accuracy')}"
            ]
          },
          "metadata": {},
          "execution_count": 38
        }
      ]
    },
    {
      "cell_type": "code",
      "source": [
        "y_pred"
      ],
      "metadata": {
        "id": "FzKlre5TCBnA",
        "colab": {
          "base_uri": "https://localhost:8080/"
        },
        "outputId": "279e9b5e-a03d-490c-fb66-4e65b7068dfc"
      },
      "execution_count": 39,
      "outputs": [
        {
          "output_type": "execute_result",
          "data": {
            "text/plain": [
              "{'SVM': array(['benign', 'malignant', 'benign', 'benign', 'malignant', 'benign',\n",
              "        'benign', 'benign', 'malignant', 'malignant', 'benign',\n",
              "        'malignant', 'benign', 'benign', 'malignant', 'malignant',\n",
              "        'malignant', 'benign', 'benign', 'benign', 'malignant', 'benign',\n",
              "        'malignant', 'benign', 'benign', 'benign'], dtype=object),\n",
              " 'RF': array(['benign', 'malignant', 'benign', 'malignant', 'malignant',\n",
              "        'malignant', 'benign', 'malignant', 'malignant', 'malignant',\n",
              "        'benign', 'malignant', 'benign', 'benign', 'malignant',\n",
              "        'malignant', 'malignant', 'malignant', 'benign', 'benign',\n",
              "        'malignant', 'benign', 'malignant', 'benign', 'benign', 'benign'],\n",
              "       dtype=object),\n",
              " 'RL': array(['benign', 'malignant', 'benign', 'benign', 'malignant', 'benign',\n",
              "        'benign', 'benign', 'malignant', 'malignant', 'benign',\n",
              "        'malignant', 'benign', 'benign', 'malignant', 'malignant',\n",
              "        'malignant', 'benign', 'benign', 'benign', 'malignant', 'benign',\n",
              "        'malignant', 'malignant', 'benign', 'benign'], dtype=object),\n",
              " 'KNN': array(['benign', 'malignant', 'benign', 'benign', 'malignant', 'benign',\n",
              "        'benign', 'benign', 'malignant', 'malignant', 'benign',\n",
              "        'malignant', 'benign', 'benign', 'benign', 'malignant',\n",
              "        'malignant', 'malignant', 'benign', 'benign', 'malignant',\n",
              "        'benign', 'malignant', 'benign', 'benign', 'benign'], dtype=object)}"
            ]
          },
          "metadata": {},
          "execution_count": 39
        }
      ]
    },
    {
      "cell_type": "markdown",
      "source": [
        "# Resultados"
      ],
      "metadata": {
        "id": "6PaiWeEvDla0"
      }
    },
    {
      "cell_type": "markdown",
      "source": [
        "Acurácia"
      ],
      "metadata": {
        "id": "8Xt_MSScGzlh"
      }
    },
    {
      "cell_type": "code",
      "source": [
        "#Calculando a acurácia para cada uma das previsões\n",
        "#proximidade entre o valor obtido experimentalmente e o valor verdadeiro\n",
        "acc = dict()\n",
        "for key in y_pred:\n",
        "  acc[key] = accuracy_score(y_test, y_pred[key], normalize=True, sample_weight=None)\n",
        "  acc[key] = acc[key]*100"
      ],
      "metadata": {
        "id": "nKnb85i3AW43"
      },
      "execution_count": 40,
      "outputs": []
    },
    {
      "cell_type": "code",
      "source": [
        "for key in acc:\n",
        "  print(key + '\\t' + str(acc[key]) + '%')"
      ],
      "metadata": {
        "id": "YsFz2J_QC3df",
        "colab": {
          "base_uri": "https://localhost:8080/"
        },
        "outputId": "59070f19-34d0-47d9-9a9f-ae4624cd8589"
      },
      "execution_count": 41,
      "outputs": [
        {
          "output_type": "stream",
          "name": "stdout",
          "text": [
            "SVM\t73.07692307692307%\n",
            "RF\t73.07692307692307%\n",
            "RL\t69.23076923076923%\n",
            "KNN\t73.07692307692307%\n"
          ]
        }
      ]
    },
    {
      "cell_type": "markdown",
      "source": [
        "Matriz de confusão"
      ],
      "metadata": {
        "id": "MS-pyq7SDn2H"
      }
    },
    {
      "cell_type": "code",
      "source": [
        "'''\n",
        "tp  fn\n",
        "fn  tn\n",
        "\n",
        "'''\n",
        "mc = dict()\n",
        "for key in y_pred:\n",
        "  mc[key] = confusion_matrix(y_test, y_pred[key], labels=('benign','malignant'), sample_weight=None, normalize=None)"
      ],
      "metadata": {
        "id": "A1NN2YReDiCI"
      },
      "execution_count": 42,
      "outputs": []
    },
    {
      "cell_type": "code",
      "source": [
        "for key in mc:\n",
        "  heatmap = ConfusionMatrixDisplay(mc[key], display_labels=('benign','malignant'))\n",
        "  heatmap.plot()\n",
        "  plt.title(key)"
      ],
      "metadata": {
        "id": "4uxV1cM5FNk6",
        "colab": {
          "base_uri": "https://localhost:8080/",
          "height": 1000
        },
        "outputId": "f858bce1-d9d8-48a0-9f4e-cfc687167c30"
      },
      "execution_count": 43,
      "outputs": [
        {
          "output_type": "display_data",
          "data": {
            "text/plain": [
              "<Figure size 432x288 with 2 Axes>"
            ],
            "image/png": "[encoded data removed]"
          },
          "metadata": {
            "needs_background": "light"
          }
        },
        {
          "output_type": "display_data",
          "data": {
            "text/plain": [
              "<Figure size 432x288 with 2 Axes>"
            ],
            "image/png": "[encoded data removed]"
          },
          "metadata": {
            "needs_background": "light"
          }
        },
        {
          "output_type": "display_data",
          "data": {
            "text/plain": [
              "<Figure size 432x288 with 2 Axes>"
            ],
            "image/png": "[encoded data removed]"
          },
          "metadata": {
            "needs_background": "light"
          }
        },
        {
          "output_type": "display_data",
          "data": {
            "text/plain": [
              "<Figure size 432x288 with 2 Axes>"
            ],
            "image/png": "[encoded data removed]"
          },
          "metadata": {
            "needs_background": "light"
          }
        }
      ]
    },
    {
      "cell_type": "markdown",
      "source": [
        "Sensibilidade, especificidade, precisão e valor predito negativo"
      ],
      "metadata": {
        "id": "n2ELU8X9Gs_A"
      }
    },
    {
      "cell_type": "code",
      "source": [
        "'''\n",
        "\n",
        "Sensibilidade: é a probabilidade de resultado positivo nos doentes(verdadeiro positivo) e é\n",
        "calculado como: a/(a+c).\n",
        "\n",
        "Especificidade: é a probabilidade de resultado negativo nos não-doentes (verdadeiro\n",
        "negativo) e é calculado como: d/b+d.\n",
        "\n",
        "Precisão: é a probabilidade da presença da doença quando o teste é positivo\n",
        "e é calculado como: a/a+b.\n",
        "\n",
        "Valor preditivo negativo: é a probabilidade da ausência de doença quando o teste é\n",
        "negativo: d/c+d\n",
        "\n",
        "'''\n",
        "tp = dict()\n",
        "tn = dict()\n",
        "fp = dict()\n",
        "fn = dict()\n",
        "\n",
        "for key in mc:\n",
        "  tn[key], fp[key], fn[key], tp[key] = mc[key].ravel()"
      ],
      "metadata": {
        "id": "XOSrYE4gHAoQ"
      },
      "execution_count": 44,
      "outputs": []
    },
    {
      "cell_type": "code",
      "source": [
        "for key in mc:\n",
        "  print(key+'\\t' + str(tn[key]), str(fp[key]), str(fn[key]), str(tp[key]))"
      ],
      "metadata": {
        "id": "jIQQmMvXHmZr",
        "colab": {
          "base_uri": "https://localhost:8080/"
        },
        "outputId": "06e766c5-7cea-40fa-e97c-99e7cccb9f07"
      },
      "execution_count": 45,
      "outputs": [
        {
          "output_type": "stream",
          "name": "stdout",
          "text": [
            "SVM\t11 2 5 8\n",
            "RF\t9 4 3 10\n",
            "RL\t10 3 5 8\n",
            "KNN\t11 2 5 8\n"
          ]
        }
      ]
    },
    {
      "cell_type": "code",
      "source": [
        "sensibilidade = dict()\n",
        "especificidade = dict()\n",
        "precisão = dict()\n",
        "vpn = dict()\n",
        "\n",
        "for key in mc:\n",
        "  sensibilidade[key] = tp[key] / (tp[key] + fn[key])\n",
        "  especificidade[key] = tn[key] / (fp[key] + tn[key])\n",
        "  precisão[key] = tp[key] / (tp[key] + fn[key])\n",
        "  vpn[key] = tn[key] / (tn[key] + fn[key])"
      ],
      "metadata": {
        "id": "wtwWhlzSH0zD"
      },
      "execution_count": 46,
      "outputs": []
    },
    {
      "cell_type": "code",
      "source": [
        "#Botar para printar\n",
        "for key in mc:\n",
        "  print(key)\n",
        "  print('sensibilidade: ' + str(sensibilidade[key]))\n",
        "  print('especificidade: ' + str(especificidade[key]))\n",
        "  print('precisão: ' + str(precisão[key]))\n",
        "  print('vpn: ' + str(vpn[key]))\n",
        "  print('\\n')"
      ],
      "metadata": {
        "id": "CWVFhkS3ICeo",
        "colab": {
          "base_uri": "https://localhost:8080/"
        },
        "outputId": "e34a995b-0724-4844-ec7b-27aa700327f5"
      },
      "execution_count": 47,
      "outputs": [
        {
          "output_type": "stream",
          "name": "stdout",
          "text": [
            "SVM\n",
            "sensibilidade: 0.6153846153846154\n",
            "especificidade: 0.8461538461538461\n",
            "precisão: 0.6153846153846154\n",
            "vpn: 0.6875\n",
            "\n",
            "\n",
            "RF\n",
            "sensibilidade: 0.7692307692307693\n",
            "especificidade: 0.6923076923076923\n",
            "precisão: 0.7692307692307693\n",
            "vpn: 0.75\n",
            "\n",
            "\n",
            "RL\n",
            "sensibilidade: 0.6153846153846154\n",
            "especificidade: 0.7692307692307693\n",
            "precisão: 0.6153846153846154\n",
            "vpn: 0.6666666666666666\n",
            "\n",
            "\n",
            "KNN\n",
            "sensibilidade: 0.6153846153846154\n",
            "especificidade: 0.8461538461538461\n",
            "precisão: 0.6153846153846154\n",
            "vpn: 0.6875\n",
            "\n",
            "\n"
          ]
        }
      ]
    },
    {
      "cell_type": "markdown",
      "source": [
        "ROC e AUC"
      ],
      "metadata": {
        "id": "La4q0yoZLaJh"
      }
    },
    {
      "cell_type": "code",
      "source": [
        "'''\n",
        "\n",
        "ROC, é uma representação gráfica que ilustra o desempenho de um sistema classificador binário à medida que o seu limiar de discriminação varia.\n",
        "\n",
        "AUC é a área abaixo da curva\n",
        "\n",
        "'''"
      ],
      "metadata": {
        "id": "GTjPiQb1geNK",
        "colab": {
          "base_uri": "https://localhost:8080/",
          "height": 36
        },
        "outputId": "ef8c2be3-c34c-4f7f-9152-1beac837cc63"
      },
      "execution_count": 51,
      "outputs": [
        {
          "output_type": "execute_result",
          "data": {
            "text/plain": [
              "'\\n\\nROC, é uma representação gráfica que ilustra o desempenho de um sistema classificador binário à medida que o seu limiar de discriminação varia.\\n\\nAUC é a área abaixo da curva\\n\\n'"
            ],
            "application/vnd.google.colaboratory.intrinsic+json": {
              "type": "string"
            }
          },
          "metadata": {},
          "execution_count": 51
        }
      ]
    },
    {
      "cell_type": "markdown",
      "source": [],
      "metadata": {
        "id": "IV4etO7lggLs"
      }
    },
    {
      "cell_type": "code",
      "source": [
        "y_score = dict()\n",
        "auc = dict()\n",
        "\n",
        "for key in y_pred:\n",
        "  y_score[key] = classificadores[key].predict_proba(X_test_filtrado)[::,1]\n",
        "  auc[key] = roc_auc_score(y_test, y_score[key])"
      ],
      "metadata": {
        "id": "vlwH3avkLdIG"
      },
      "execution_count": 48,
      "outputs": []
    },
    {
      "cell_type": "code",
      "source": [
        "auc[\"SVM\"], 3"
      ],
      "metadata": {
        "id": "lJmFrUOzQBVD",
        "colab": {
          "base_uri": "https://localhost:8080/"
        },
        "outputId": "64850f00-73a2-458d-81ad-c9b04dd90260"
      },
      "execution_count": 49,
      "outputs": [
        {
          "output_type": "execute_result",
          "data": {
            "text/plain": [
              "(0.7514792899408284, 3)"
            ]
          },
          "metadata": {},
          "execution_count": 49
        }
      ]
    },
    {
      "cell_type": "code",
      "source": [
        "for key in y_pred:\n",
        "  fpr, tpr, _ = roc_curve(y_test, y_score[key], pos_label='malignant')\n",
        "  plt.plot(fpr,tpr, label= key + ' (AUC) = ' + str(round(auc[key], 3)))\n",
        "\n",
        "plt.ylabel('Sensibilidade')\n",
        "plt.xlabel('1 - Especificidade')\n",
        "plt.plot([0, 1], [0, 1], \"k--\", label=\"chance level (AUC) = 0.5\")\n",
        "plt.legend()\n",
        "plt.show()"
      ],
      "metadata": {
        "id": "vkp7MnscL165",
        "colab": {
          "base_uri": "https://localhost:8080/",
          "height": 279
        },
        "outputId": "ef4ff353-0b45-4991-d803-91ec1d5aba70"
      },
      "execution_count": 50,
      "outputs": [
        {
          "output_type": "display_data",
          "data": {
            "text/plain": [
              "<Figure size 432x288 with 1 Axes>"
            ],
            "image/png": "[encoded data removed]"
          },
          "metadata": {
            "needs_background": "light"
          }
        }
      ]
    }
  ]
}